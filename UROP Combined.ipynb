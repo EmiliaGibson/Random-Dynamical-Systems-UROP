{
 "cells": [
  {
   "cell_type": "code",
   "execution_count": 11,
   "metadata": {},
   "outputs": [],
   "source": [
    "import numpy as np\n",
    "import matplotlib.pyplot as plt\n",
    "from numpy import linalg as LA\n",
    "from scipy import sparse\n",
    "from scipy.sparse.linalg import eigs\n",
    "import matplotlib.colors as colors"
   ]
  },
  {
   "cell_type": "markdown",
   "metadata": {},
   "source": [
    "# 1D Stationary measures\n",
    "## Ulam's method:"
   ]
  },
  {
   "cell_type": "code",
   "execution_count": 6,
   "metadata": {},
   "outputs": [],
   "source": [
    "# Ulam's method \n",
    "\n",
    "def indicator(x,a,b):\n",
    "    \"\"\"\n",
    "    simple indicator function\n",
    "    parameters:\n",
    "    x: float array\n",
    "    a: float \n",
    "    b: float >= a \n",
    "    output: \n",
    "    numpy array of ones and zeros -  1 if a<x<b, else 0\n",
    "    \"\"\"\n",
    "\n",
    "    return np.heaviside(x-a,0) - np.heaviside(x-b,0) \n",
    "\n",
    "def p(x,a,b,f,Ω):\n",
    "    \"\"\"\n",
    "    Markov Kernel \n",
    "    parameters:\n",
    "    x: float array\n",
    "    a: float \n",
    "    b: float >= a \n",
    "    f: function mapping from RxR to R\n",
    "    Ω: interval in R from which noise values are drawn uniformly\n",
    "    output:\n",
    "    float\n",
    "    \"\"\"\n",
    "    x = x[np.newaxis]\n",
    "    x=x.T\n",
    "    #numerical integration using trapezium rule \n",
    "    omega= np.linspace(Ω[0],Ω[1],100)\n",
    "    y =indicator(f(omega,x),a,b)\n",
    "    out = 1/(Ω[1]-Ω[0])*np.trapz(y,omega)\n",
    "    return out\n",
    "\n",
    "\n",
    "def progressbar(i,n,refresh_rate = 1, i_start = 0):\n",
    "    '''\n",
    "    Approximates how far through the computation you are, by showing a percentage of total loops that have been computed\n",
    "    i = loop index\n",
    "    n = amount of iterations (max loop index + 1 if i_start = 0)\n",
    "    refresh_rate = how often you would like to update the percentage (useful)\n",
    "    i_start = start value of loop\n",
    "    '''\n",
    "    output = (i-i_start)/refresh_rate\n",
    "    if (int(output)==output):\n",
    "        print(str(np.round((i+1-i_start)/n*100,2))+'%', end =\"\\r\")\n",
    "\n",
    "def prob_mat(n,f,Ω,domain): \n",
    "    \n",
    "    \"\"\"\n",
    "    Perron-Frobenius operator\n",
    "    parameter:\n",
    "    n : number of equal subintervals to be created from the domain of f\n",
    "    f: function outputting: a map from Ω x domain to domain\n",
    "    Ω: interval in R from which noise values are drawn uniformly\n",
    "    domain: interval in R\n",
    "    output:\n",
    "    n2xn2 stochastic matrix\n",
    "    \"\"\"\n",
    "    #length of each subinterval\n",
    "    h = (domain[1]-domain[0])/n \n",
    "    \n",
    "    \n",
    "    #create partition of the domain of f\n",
    "    partition = np.linspace(domain[0],domain[1],n+1)  \n",
    "\n",
    "    #initialise output matrix\n",
    "    out = np.zeros((n,n))\n",
    "    for j in range(n):\n",
    "        #get end points of jth subinterval\n",
    "        a,b = partition[j], partition[j+1]\n",
    "        progressbar(j,n)\n",
    "        #numerical integration using trapezium rule \n",
    "        x= np.linspace(domain[0],domain[1],n*100)\n",
    "        y = p(x,a,b,f,Ω) \n",
    "        out[:,j]=  np.array( [np.trapz(y[100*i:100*(i+1)],x[100*i :100*(i+1)])/h for i in range(n)]) \n",
    "    return out\n",
    "\n",
    "\n",
    "def stationarydist(mat):\n",
    "    \"\"\"\n",
    "    get right eigenvector corresponding to evalue 1\n",
    "    paremeters: \n",
    "    mat: square 2d float array\n",
    "    oututs:\n",
    "    1d float array approximating the stationary measure, max eigenvalue of mat\n",
    "    \"\"\"\n",
    "    #make matrix sparse  \n",
    "    mat = sparse.csr_matrix(mat) \n",
    "    \n",
    "    #get largest left eigenvalue\n",
    "    evals,evecs = eigs(np.transpose(mat))\n",
    "    index = np.argmax(evals)\n",
    "    \n",
    "    #check evalue is indeed 1\n",
    "    print(evals[index])\n",
    "    \n",
    "    return evecs[:,index], evals[index]\n",
    "\n"
   ]
  },
  {
   "cell_type": "markdown",
   "metadata": {},
   "source": [
    "### examples:"
   ]
  },
  {
   "cell_type": "code",
   "execution_count": 7,
   "metadata": {},
   "outputs": [
    {
     "name": "stdout",
     "output_type": "stream",
     "text": [
      "(0.9900990099009863+0j)\n",
      "(0.9900989251204046+0j)\n"
     ]
    },
    {
     "data": {
      "text/plain": [
       "[<matplotlib.lines.Line2D at 0x1fc51f4bfc8>]"
      ]
     },
     "execution_count": 7,
     "metadata": {},
     "output_type": "execute_result"
    },
    {
     "data": {
      "image/png": "[encoded data removed]",
      "text/plain": [
       "<Figure size 432x288 with 1 Axes>"
      ]
     },
     "metadata": {
      "needs_background": "light"
     },
     "output_type": "display_data"
    },
    {
     "data": {
      "image/png": "[encoded data removed]",
      "text/plain": [
       "<Figure size 432x288 with 1 Axes>"
      ]
     },
     "metadata": {
      "needs_background": "light"
     },
     "output_type": "display_data"
    }
   ],
   "source": [
    "# a few maps\n",
    "\n",
    "def f(omega, x):\n",
    "    \"\"\"\n",
    "    maps from [-1, 1]x[-1, 1] --> [-1,1]\n",
    "    parameters:\n",
    "    omega: a random sample of size 1 drawn from a uniform[-1,1] dist\n",
    "    x: float in [-1,1]\n",
    "    output:\n",
    "    float in [-1,1]: value of mapping of x\n",
    "    \"\"\"\n",
    "    return (x+omega)/2 \n",
    "    \n",
    "def f2(omega,x):\n",
    "    \"\"\"\n",
    "    Maps from [-2,2]x[-1,1] --> [-2,2]\n",
    "    parameters:\n",
    "    omega: a random sample of size 1 drawn from a uniform[-1,1] dist\n",
    "    x: float \n",
    "    output:\n",
    "    float in [-2,2] : value of mapping of x \n",
    "    \"\"\"\n",
    "    return np.cbrt(x+6*omega)\n",
    "\n",
    "\n",
    "#a few examples\n",
    "k=100\n",
    "test=prob_mat(k,f,[-1,1],[-1,1])\n",
    "mu= stationarydist(test)[0]\n",
    "\n",
    "test2=prob_mat(k,f2,[-1,1],[-2,2])\n",
    "mu2 = stationarydist(test2)[0]\n",
    "\n",
    "# plotting stationary measures\n",
    "plt.figure()\n",
    "plt.plot(np.linspace(-1,1,len(mu)),1/np.trapz(np.abs(mu),np.linspace(-1,1,len(mu)))*np.abs(mu))\n",
    "plt.figure()\n",
    "plt.plot(np.linspace(-2,2,len(mu2)),1/np.trapz(np.abs(mu2),np.linspace(-2,2,len(mu2)))*np.abs(mu2))\n",
    "\n"
   ]
  },
  {
   "cell_type": "markdown",
   "metadata": {},
   "source": [
    "### Alternative method for stationary measures of 1d maps:\n",
    "#### - quicker but less accurate method to obtain stationary measure by evaluating the Markov kernel at single points\n"
   ]
  },
  {
   "cell_type": "code",
   "execution_count": 8,
   "metadata": {},
   "outputs": [],
   "source": [
    "def indicator_fast(x,intervals):\n",
    "    \"\"\"\n",
    "    indicator function\n",
    "    parameters:\n",
    "    x  : float array\n",
    "    intervals  : intervals in R to pass indicator function through\n",
    "    output:\n",
    "    2d array of ones and zeros \n",
    "    \"\"\"\n",
    "    a , b = intervals[:,0][np.newaxis].T, intervals[:,1][np.newaxis].T\n",
    "    x = np.ndarray.flatten(x)\n",
    "    out1 = (np.heaviside(x-a,0) - np.heaviside(x-b,0))\n",
    "    return  out1\n",
    "\n",
    "\n",
    "def p_fast(x,intervals,f,Ω):\n",
    "    \"\"\"\n",
    "    Markov Kernel \n",
    "    parameters:\n",
    "    x: float array\n",
    "    intervals: intervals in R to pass indicator function through\n",
    "    f: function with output: a mapping from Ωxdomain to domain\n",
    "    Ω: interval in R from which noise values are drawn from uniformly\n",
    "    output:\n",
    "    float array\n",
    "    \"\"\"\n",
    "    omega= np.linspace(Ω[0],Ω[1],100)\n",
    "    x = np.ndarray.flatten(x)\n",
    "    xs = f(omega,np.transpose([x,]))[0]\n",
    "    z = indicator_fast(xs,intervals)\n",
    "    return 1/(Ω[1]-Ω[0])*np.trapz(z,omega,axis=1)\n",
    "\n",
    "\n",
    "def prob_mat_alt(n,f,n2,Ω,domain):\n",
    "    \"\"\"\n",
    "    Approximates the Perron-Frobenius operator of f by averaging the markov kernel at n3 points inside each subinterval\n",
    "    parameters:\n",
    "    n : number of equal subintervals to be created from the domain of f\n",
    "    f: function with output: mapping from RxR to R, domain of f\n",
    "    n2 : number of points to average\n",
    "    output:\n",
    "    nxn stochastic matrix\n",
    "    \"\"\"\n",
    "    \n",
    "    #length of each subinterval\n",
    "    h = (domain[1]-domain[0])/n \n",
    "    \n",
    "    #create partition of the domain of f\n",
    "    partition = np.linspace(domain[0],domain[1],n+1)\n",
    "    \n",
    "    #initialise output matrix\n",
    "    out = np.zeros((n,n))\n",
    "    \n",
    "    #get intervals of domain\n",
    "    intervals = np.zeros((n,2))\n",
    "    for j in range(n):\n",
    "        intervals[j]= partition[j], partition[j+1]\n",
    "        \n",
    "    for i in range(n):\n",
    "        progressbar(i,n)\n",
    "        \n",
    "        # stores the values to be averaged\n",
    "        ave = np.zeros((n2,n))\n",
    "        \n",
    "        for j in range(n2):\n",
    "            x=np.asarray([np.random.uniform(partition[i],partition[i+1])])\n",
    "            ave[j,:] =p_fast(x,intervals,f,Ω)\n",
    "            \n",
    "        out[i,:]= np.mean(ave,axis=0)\n",
    "\n",
    "    return out"
   ]
  },
  {
   "cell_type": "markdown",
   "metadata": {},
   "source": [
    "### Examples"
   ]
  },
  {
   "cell_type": "code",
   "execution_count": 9,
   "metadata": {},
   "outputs": [
    {
     "name": "stdout",
     "output_type": "stream",
     "text": [
      "(1.0000000000000009+0j)\n",
      "(1+0j)\n"
     ]
    },
    {
     "data": {
      "text/plain": [
       "[<matplotlib.lines.Line2D at 0x1fc524d3808>]"
      ]
     },
     "execution_count": 9,
     "metadata": {},
     "output_type": "execute_result"
    },
    {
     "data": {
      "image/png": "[encoded data removed]",
      "text/plain": [
       "<Figure size 432x288 with 1 Axes>"
      ]
     },
     "metadata": {
      "needs_background": "light"
     },
     "output_type": "display_data"
    },
    {
     "data": {
      "image/png": "[encoded data removed]",
      "text/plain": [
       "<Figure size 432x288 with 1 Axes>"
      ]
     },
     "metadata": {
      "needs_background": "light"
     },
     "output_type": "display_data"
    }
   ],
   "source": [
    "# a few examples\n",
    "k=500\n",
    "test3=prob_mat_alt(k,f,1,[-1,1],[-1,1])\n",
    "z3= stationarydist(test3)[0]\n",
    "\n",
    "test4=prob_mat_alt(k,f2,1,[-1,1],[-2,2])\n",
    "z4 = stationarydist(test4)[0]\n",
    "\n",
    "#plotting\n",
    "plt.figure()\n",
    "plt.plot(np.linspace(-1,1,len(z3)),1/np.trapz(np.abs(z3),np.linspace(-1,1,len(z3)))*np.abs(z3))\n",
    "plt.figure()\n",
    "plt.plot(np.linspace(-2,2,len(z3)),1/np.trapz(np.abs(z4),np.linspace(-2,2,len(z4)))*np.abs(z4))"
   ]
  },
  {
   "cell_type": "markdown",
   "metadata": {},
   "source": [
    "# 2D Stationary measures\n",
    "## Ulam's method:"
   ]
  },
  {
   "cell_type": "code",
   "execution_count": 18,
   "metadata": {},
   "outputs": [],
   "source": [
    "def indicator_2D(xx,yy,A,B):\n",
    "    \"\"\"\n",
    "    indicator function for R^2\n",
    "    parameters:\n",
    "    xx,yy: arrays of x and y coords *of same dimensions\n",
    "    A: bounds of 'x' coords\n",
    "    B: bounds of 'y' coords\n",
    "    output:\n",
    "    array of ones and zeros \n",
    "    \"\"\"\n",
    "    a , b = A[0], A[1]\n",
    "    c , d = B[0], B[1]\n",
    "    out1 = (np.heaviside(xx-a,0) - np.heaviside(xx-b,0))\n",
    "    out2 = (np.heaviside(yy-c,0) - np.heaviside(yy-d,0))\n",
    "    return  np.minimum(out1,out2)\n",
    "\n",
    "s=1\n",
    "b=1\n",
    "def p_2D(xx,yy,A,B,f,Ω,s=s,b=b):\n",
    "    \"\"\"\n",
    "    Markov kernel for R^2\n",
    "    parameters:\n",
    "    xx,yy: square meshgrids of same dimensions\n",
    "    A: bounds of 'x' coord\n",
    "    B: bounds of 'y' coord\n",
    "    f: function mapping from Ω x R x R to R x R\n",
    "    Ω: interval in R from which noise values are drawn form uniformly \n",
    "    output:\n",
    "    float array with shape of xx and yy\n",
    "    \"\"\"\n",
    "    shape = np.shape(xx)\n",
    "    omega= np.linspace(Ω[0],Ω[1],100)\n",
    "    xx, yy = np.ndarray.flatten(xx), np.ndarray.flatten(yy)\n",
    "    xys = f3(omega,np.transpose([xx,]),np.transpose([yy,]),s,b)[0]\n",
    "    z = indicator_2D(xys[0],xys[1],A,B)\n",
    "    return np.reshape(1/(Ω[1]-Ω[0])*np.trapz(z,omega,axis=1),shape)\n",
    "\n",
    "def double_Integral(xmin, xmax, ymin, ymax, nx, ny, A):\n",
    "    \"\"\"\n",
    "    Integration using trapexium rule in 2D taken from: \n",
    "    https://stackoverflow.com/questions/20668689/integrating-2d-samples-on-a-rectangular-grid-using-scipy\n",
    "    parameters:\n",
    "    xmin, xmax: integral bounds of 'x' coord\n",
    "    ymin, ymax: integral bounds of 'y' coord\n",
    "    nx ,ny: number of subintervals of x and y resp.\n",
    "    A: meshgrid of points to be integrated over\n",
    "    output:\n",
    "    float\n",
    "    \"\"\"\n",
    "    dS = ((xmax-xmin)/(nx-1)) * ((ymax-ymin)/(ny-1))\n",
    "    A_Internal = A[1:-1, 1:-1]\n",
    "    # sides: up, down, left, right\n",
    "    (A_u, A_d, A_l, A_r) = (A[0, 1:-1], A[-1, 1:-1], A[1:-1, 0], A[1:-1, -1])\n",
    "    # corners\n",
    "    (A_ul, A_ur, A_dl, A_dr) = (A[0, 0], A[0, -1], A[-1, 0], A[-1, -1])\n",
    "    return dS * (np.sum(A_Internal)\\\n",
    "              + 0.5 * (np.sum(A_u) + np.sum(A_d) + np.sum(A_l) + np.sum(A_r))\\\n",
    "              + 0.25 * (A_ul + A_ur + A_dl + A_dr))\n",
    "\n",
    "def prob_mat_2D(n,f,Ω,domain):\n",
    "    \"\"\"\n",
    "    Perron-Frobenius operator\n",
    "    parameters:\n",
    "    n : integer, n^2 = number of boxes to divide the domain into\n",
    "    f: function outputting: a map from Ω x domain to domain\n",
    "    Ω: interval in R from which noise values are drawn form uniformly    \n",
    "    domain: interval in R^2\n",
    "    output:\n",
    "    n^2 x n^2  stochastic matrix\n",
    "    \"\"\"\n",
    "    #area of each cell\n",
    "    h =(domain[1][1]-domain[1][0])/n*(domain[0][1]-domain[0][0])/n\n",
    "    partition_x = np.linspace(domain[0][0],domain[0][1],n+1)\n",
    "    partition_y = np.linspace(domain[1][0],domain[1][1],n+1)\n",
    "    out = np.zeros((n**2, n**2))\n",
    "    count=-1\n",
    "    for k in range(n):\n",
    "        for l in range(n):\n",
    "            A2 = (partition_x[k], partition_x[k+1])\n",
    "            B2 = (partition_y[l], partition_y[l+1])\n",
    "            x = np.linspace(A2[0], A2[1], 10)\n",
    "            y = np.linspace(B2[0], B2[1], 10)\n",
    "            xx,yy = np.meshgrid(x,y)\n",
    "            count+=1\n",
    "            count2 = -1\n",
    "            progressbar(count,n**2)\n",
    "            for i in range(n):\n",
    "                for j in range(n):\n",
    "                    count2 += 1\n",
    "                    A = (partition_x[i],partition_x[i+1])\n",
    "                    B = (partition_y[j], partition_y[j+1])\n",
    "                    zz = p_2D(xx,yy,A,B,f,Ω,s,b)\n",
    "                    out[count,count2] = double_Integral(A2[0],A2[1],B2[0], B2[1],10,10, zz)/h\n",
    "            \n",
    "    return out\n",
    "\n",
    "\n",
    "def stationarydist_2D(mat):\n",
    "    \"\"\"\n",
    "    gets right eigenvector of input matrix corresponding to evalue 1, reshaped into a 2d matrox\n",
    "    parameters:\n",
    "    mat : 2d float array with dimensions n^2 x n^2\n",
    "    outputs: 2d float array with dimensions n x n\n",
    "    \"\"\"\n",
    "    mat =  sparse.csr_matrix(mat)   \n",
    "    dim = int(np.sqrt(np.shape(mat)[0]))\n",
    "    evals,evecs = eigs(np.transpose(mat))\n",
    "    index = np.argmax(evals)\n",
    "    \n",
    "    #check eigenvalue is indeed 1\n",
    "    print(evals[index])\n",
    "    \n",
    "    return np.fliplr((np.abs(np.reshape(evecs[:,index],(dim,dim)))).T)"
   ]
  },
  {
   "cell_type": "markdown",
   "metadata": {},
   "source": [
    "### Examples"
   ]
  },
  {
   "cell_type": "code",
   "execution_count": 21,
   "metadata": {},
   "outputs": [
    {
     "data": {
      "image/png": "[encoded data removed]",
      "text/plain": [
       "<Figure size 432x360 with 1 Axes>"
      ]
     },
     "metadata": {
      "needs_background": "light"
     },
     "output_type": "display_data"
    }
   ],
   "source": [
    "s,b=1,1\n",
    "def f3(omega,y1,th1,s=s,b=1):\n",
    "    \"\"\" \n",
    "    maps from [-1,1]x[-0.022s,0.022s]x[0,1] to [-0.022s,0.022s]x[0,1]\n",
    "    output constained to a cylinder\n",
    "    parameters:\n",
    "    omega: a random sample drawn from uniform[-1,1] dist\n",
    "    y1: array of 'height' coords   \n",
    "    th1: array of 'angle' coords\n",
    "    s,b : floats\n",
    "    outputs:\n",
    "    [y1,th1]: value of mapping\n",
    "#    (-2(s+0.001),2(s+0.001)) : min, max values of domain of mapping of 'x' coord- to be used in later functions\n",
    "#    (0,1) : min, max values of domain of mapping of 'y' coord- to be used in later functions    \n",
    "    \"\"\"\n",
    "    y1 = y1/2  +s*omega*(np.sin(np.pi*th1)**2+0.1)*0.01\n",
    "    th1 = np.mod( b*y1+th1,1)\n",
    "    return [y1,th1], (-2*(s*1.1)*0.01,2*(s*1.1)*0.01), (0,1)\n",
    "    \n",
    "\n",
    "test = prob_mat_2D(10,f3,[-1,1],[(-2*(s*1.1)*0.01,2*(s*1.1)*0.01), (0,1)])\n",
    "d = stationarydist_2D(test)\n",
    "# plotting\n",
    "#color maps of approximated stationary measures using log color scale \n",
    "fig, ax = plt.subplots(1,1,figsize=(6,5))\n",
    "img = ax.imshow(d.T,cmap=plt.cm.jet,extent=[-1,1,-1.5,1.5],norm=colors.LogNorm(vmin=1e-4,vmax=np.max(d)))\n",
    "y_label_list = np.linspace(-0.02*s,0.02*s,5)\n",
    "x_label_list = np.linspace(0,1,5)\n",
    "ax.set_yticks(np.linspace(-1.5,1.5,5))\n",
    "ax.set_xticks(np.linspace(-1,1,5))\n",
    "ax.set_yticklabels(y_label_list)\n",
    "ax.set_xticklabels(x_label_list);"
   ]
  },
  {
   "cell_type": "markdown",
   "metadata": {},
   "source": [
    "### Alternative method for stationary measures of 2d maps:\n",
    "#### - quicker but less accurate method to obtain stationary measure by evaluating the Markov kernel at single points\n"
   ]
  },
  {
   "cell_type": "code",
   "execution_count": 26,
   "metadata": {},
   "outputs": [],
   "source": [
    "def indicator_2D_fast(xx,yy,boxes):\n",
    "    \"\"\"\n",
    "    indicator function for R^2\n",
    "    parameters:\n",
    "    xx,yy: arrays of x and y coords *of same dimensions\n",
    "    boxes: intervals in R^2 to pass omdocator function through\n",
    "    output:\n",
    "    float array of ones and zeros \n",
    "    \"\"\"\n",
    "    a , b = boxes[:,0][np.newaxis].T, boxes[:,1][np.newaxis].T\n",
    "    c , d = boxes[:,2][np.newaxis].T, boxes[:,3][np.newaxis].T\n",
    "    xx, yy = np.ndarray.flatten(xx), np.ndarray.flatten(yy)\n",
    "    out1 = (np.heaviside(xx-a,0) - np.heaviside(xx-b,0))\n",
    "    out2 = (np.heaviside(yy-c,0) - np.heaviside(yy-d,0))\n",
    "    return  np.minimum(out1,out2)\n",
    "\n",
    "\n",
    "def p_2D_fast(xx,yy,boxes,f,Ω,s=s,b=b):\n",
    "    \"\"\"\n",
    "    #approximate markov kernel at single point \n",
    "    parameters:\n",
    "    xx,yy: square meshgrid\n",
    "    boxes: intervals in R^2 to pass omdocator function through\n",
    "    f: function mapping from ΩxRxR to RxR\n",
    "    Ω: interval in R from which noise values are drawn form uniformly \n",
    "    s,b: parameters for f\n",
    "    output:\n",
    "    float array \n",
    "    \"\"\"\n",
    "    omega= np.linspace(Ω[0],Ω[1],100)\n",
    "    xx, yy = np.ndarray.flatten(xx), np.ndarray.flatten(yy)\n",
    "    xys = f(omega,np.transpose([xx,]),np.transpose([yy,]),s,b)[0]\n",
    "    z = indicator_2D_fast(xys[0],xys[1],boxes)\n",
    "    return 1/(Ω[1]-Ω[0])*np.trapz(z,omega,axis=1)\n",
    "\n",
    "\n",
    "\n",
    "\n",
    "def prob_mat_2D_alt(n,f,n2,Ω,domain):\n",
    "    \"\"\"\n",
    "    Perron-Frobenius operator\n",
    "    parameters:\n",
    "    n : integer, n^2 = number of boxes to divide the domain into\n",
    "    f: function outputting: a map from Ω x domain to domain\n",
    "    n2: integer, number of points to approximate markov kernel from\n",
    "    Ω: interval in R from which noise values are drawn form uniformly    \n",
    "    domain: interval in R^2\n",
    "    output:\n",
    "    n^2 x n^2  stochastic matrix\n",
    "    \"\"\"    \n",
    "    \n",
    "    #create partitions\n",
    "    partition_x = np.linspace(domain[0][0],domain[0][1],n+1)\n",
    "    partition_y = np.linspace(domain[1][0],domain[1][1],n+1)\n",
    "    \n",
    "    #initialise output matrix\n",
    "    out = np.zeros((n**2, n**2)) \n",
    "    \n",
    "    #get boxes of domain\n",
    "    boxes = np.zeros((n**2,4))\n",
    "    count = -1\n",
    "    for l in range(n):\n",
    "        for m in range(n):\n",
    "            count+=1\n",
    "            boxes[count,:] = (partition_x[l], partition_x[l+1],partition_y[m], partition_y[m+1])\n",
    "            \n",
    "            \n",
    "    for i in range(n**2):\n",
    "        AB = boxes[i]\n",
    "        ave = np.zeros((n2,n**2))\n",
    "        progressbar(i,n**2)\n",
    "        for j in range(n2):\n",
    "            x = np.random.uniform(AB[0], AB[1],1)\n",
    "            y = np.random.uniform(AB[2], AB[3],1) \n",
    "            ave[j,:] =p_2D_fast(x,y,boxes,f,Ω,s,b)\n",
    "        out[i,:]= np.mean(ave,axis=0)\n",
    "    return out"
   ]
  },
  {
   "cell_type": "markdown",
   "metadata": {},
   "source": [
    "### Examples:"
   ]
  },
  {
   "cell_type": "code",
   "execution_count": 31,
   "metadata": {},
   "outputs": [
    {
     "name": "stdout",
     "output_type": "stream",
     "text": [
      "(1.0000000000000109+0j)\n"
     ]
    },
    {
     "data": {
      "image/png": "[encoded data removed]",
      "text/plain": [
       "<Figure size 432x360 with 1 Axes>"
      ]
     },
     "metadata": {
      "needs_background": "light"
     },
     "output_type": "display_data"
    }
   ],
   "source": [
    "test2 = prob_mat_2D_alt(20,f3,100,[-1,1],[(-2*(s*1.1)*0.01,2*(s*1.1)*0.01), (0,1)])\n",
    "d2 = stationarydist_2D(test2)\n",
    "\n",
    "# plotting\n",
    "#color maps of approximated stationary measures using log color scale \n",
    "fig, ax = plt.subplots(1,1,figsize=(6,5))\n",
    "img = ax.imshow(d2.T,cmap=plt.cm.jet,extent=[-1,1,-1.5,1.5],norm=colors.LogNorm(vmin=1e-4,vmax=np.max(d2)))\n",
    "y_label_list = np.linspace(-0.02*s,0.02*s,5)\n",
    "x_label_list = np.linspace(0,1,5)\n",
    "ax.set_yticks(np.linspace(-1.5,1.5,5))\n",
    "ax.set_xticks(np.linspace(-1,1,5))\n",
    "ax.set_yticklabels(y_label_list)\n",
    "ax.set_xticklabels(x_label_list);"
   ]
  },
  {
   "cell_type": "markdown",
   "metadata": {},
   "source": [
    "# Quasi-stationary measures"
   ]
  },
  {
   "cell_type": "markdown",
   "metadata": {},
   "source": [
    "## Ulam's method:"
   ]
  },
  {
   "cell_type": "markdown",
   "metadata": {},
   "source": [
    "### Example:"
   ]
  },
  {
   "cell_type": "code",
   "execution_count": 34,
   "metadata": {},
   "outputs": [
    {
     "data": {
      "image/png": "[encoded data removed]",
      "text/plain": [
       "<Figure size 720x432 with 1 Axes>"
      ]
     },
     "metadata": {
      "needs_background": "light"
     },
     "output_type": "display_data"
    }
   ],
   "source": [
    "#QSDs can also be computed using Ulam's method\n",
    "\n",
    "#eg\n",
    "\n",
    "def g(omega,x):\n",
    "    \"\"\"\n",
    "    maps from [-1,1]x[-1,1] to [-1,1] with escape\n",
    "    parameters:\n",
    "    omega: a random sample of size 1 drawn from a uniform[-1,1] dist\n",
    "    x: float in [-1,1]\n",
    "    output:\n",
    "    float : value of mapping of x\n",
    "    \"\"\"\n",
    "    return 2*x + omega\n",
    "\n",
    "\n",
    "k=200\n",
    "omega=np.random.uniform(-1,1,size=k)\n",
    "test=prob_mat(k,g,[-1,1],[-1,1])\n",
    "z,lmda= stationarydist(test)\n",
    "print(lmda)\n",
    "plt.figure(figsize=(10,6))\n",
    "plt.plot(np.linspace(-1,1,len(z)),1/np.trapz(np.abs(z),np.linspace(-1,1,len(z)))*np.abs(z))\n",
    "plt.ylim([0,1]);"
   ]
  },
  {
   "cell_type": "markdown",
   "metadata": {},
   "source": [
    "## Monte Carlo method:"
   ]
  },
  {
   "cell_type": "code",
   "execution_count": 52,
   "metadata": {},
   "outputs": [],
   "source": [
    "# Monte Carlo method for QSD\n",
    "def MCQSD(g,N,N2,Ω,domain):\n",
    "    '''\n",
    "    parameters: \n",
    "    g  : function mapping from Ω x domain --> R\n",
    "    domain  : 1D interval\n",
    "    N  : integer - length of trajectory  \n",
    "    N2  : integer - number of subintervals to divide domain into\n",
    "    output:\n",
    "    count  : QSD\n",
    "    survivals  : Survival rate of QSM\n",
    "    '''\n",
    "    partition = np.linspace(domain[0],domain[1],N2+1)\n",
    "    \n",
    "    #initalize output\n",
    "    count=np.zeros(N2)\n",
    "    \n",
    "    \n",
    "    #list of previous points of trajectory inside domain\n",
    "    x_tracker=np.zeros(N+1)\n",
    "    x_tracker[0] = np.random.uniform(domain[0],domain[1])\n",
    "    \n",
    "    #store killing times\n",
    "    killing_times=[0]\n",
    "    \n",
    "    intervals = np.zeros((N2,2))\n",
    "    for j in range(N2):\n",
    "        intervals[j]= partition[j], partition[j+1]\n",
    "    \n",
    "    \n",
    "    for n in range(N):\n",
    "        #print percentage of for loops completed\n",
    "        progressbar(n,N)\n",
    "        \n",
    "        #move trajectory forward one timestep \n",
    "        newx = g(np.random.uniform(Ω[0],Ω[1]),x_tracker[n])\n",
    "        \n",
    "        #find out which subinterval the new point lies, if any \n",
    "        add =  np.ndarray.flatten(indicator_fast(np.asarray([newx]),intervals))\n",
    "        \n",
    "        #record point's location (in domain)\n",
    "        count += add\n",
    "        \n",
    "        #if point lies outside domain, resample from empirical distribution\n",
    "        if np.sum(add)==0:\n",
    "            killing_times.append(n+1)\n",
    "            x_tracker[n+1] = x_tracker[int(n*np.random.uniform(0,1))]\n",
    "        \n",
    "        else:\n",
    "            x_tracker[n+1] = newx\n",
    "    #calculate survival rate        \n",
    "    survivals = np.mean([killing_times[i+1]-killing_times[i] for i in range(len(killing_times)-1)])\n",
    "    \n",
    "    #calculate aprroximate QSD\n",
    "    count = count/(N*((partition[1]-partition[0])**2))\n",
    "    return count, survivals    "
   ]
  },
  {
   "cell_type": "markdown",
   "metadata": {},
   "source": [
    "### Examples:"
   ]
  },
  {
   "cell_type": "code",
   "execution_count": 54,
   "metadata": {},
   "outputs": [
    {
     "name": "stdout",
     "output_type": "stream",
     "text": [
      "100.0%\r"
     ]
    },
    {
     "data": {
      "image/png": "[encoded data removed]",
      "text/plain": [
       "<Figure size 432x288 with 1 Axes>"
      ]
     },
     "metadata": {
      "needs_background": "light"
     },
     "output_type": "display_data"
    }
   ],
   "source": [
    "#plotting example\n",
    "test = MCQSD(g, 10**5,1000,[-1,1],[-1,1])\n",
    "plt.plot(np.linspace(-1,1,len(test[0])),test[0]/np.trapz(test[0],np.linspace(-1,1,len(test[0]))))\n",
    "plt.show()\n"
   ]
  },
  {
   "cell_type": "markdown",
   "metadata": {},
   "source": [
    "# Top Lyapunov exponent "
   ]
  },
  {
   "cell_type": "markdown",
   "metadata": {},
   "source": [
    "## Method 1 using stationary measures\n"
   ]
  },
  {
   "cell_type": "code",
   "execution_count": 40,
   "metadata": {},
   "outputs": [],
   "source": [
    "def top_lyap(μ, E, Ω, M):\n",
    "    \"\"\"\n",
    "    parameters:\n",
    "    μ : stationary measure of a 1d map f : Ω x M to M\n",
    "    E : map E_w(ln|df/dx)|) from Ω x R to R\n",
    "    Ω : interval in R from which noise values are drawn uniformly\n",
    "    M : interval in R\n",
    "    output:\n",
    "    float\n",
    "    \"\"\"\n",
    "    #normalize μ \n",
    "    μ = np.abs(μ)/np.sum(μ)\n",
    "    res = len(μ)\n",
    "    \n",
    "    x = np.linspace(M[0], M[1], res)\n",
    "    if Ω[0] == 0:\n",
    "        g = 1/(Ω[1]-Ω[0])*(E(Ω[1],x))\n",
    "    else:\n",
    "        g = 1/(Ω[1]-Ω[0])*(E(Ω[1],x)-E(Ω[0],x))\n",
    "        \n",
    "    y = g*μ\n",
    "    \n",
    "    return np.sum(y)  \n"
   ]
  },
  {
   "cell_type": "markdown",
   "metadata": {},
   "source": [
    "### Examples:"
   ]
  },
  {
   "cell_type": "code",
   "execution_count": 55,
   "metadata": {},
   "outputs": [
    {
     "name": "stdout",
     "output_type": "stream",
     "text": [
      "-0.3699426745430838\n",
      "(0.9900211625877922+0j)\n",
      "(-0.36269462900325544+0j)\n"
     ]
    }
   ],
   "source": [
    "# example for a random logistic map\n",
    "\n",
    "def f4(w,x):\n",
    "    \"\"\"\n",
    "    map from Ω ⊆ [0,4] x [0,1] to [0,1]\n",
    "    parameters:\n",
    "    w: float in Ω\n",
    "    x: float array in [0,1]\n",
    "    output:\n",
    "    float array\n",
    "    \"\"\"\n",
    "    return w*x*(1-x)\n",
    "\n",
    "def exp_f4(w,x):\n",
    "    \"\"\"\n",
    "    E_w(ln|df/dx)|) - calculated using online integration calculator - map from Ω ⊆ [0,4] x R to R \n",
    "    \"\"\"\n",
    "    return 0.5*w*((np.sign(w-2*x*w)+1)*(np.log(abs(w-2*x*w))-1) -((np.sign(w-2*x*w)-1))*(np.log(abs(2*x-1)*w)-1))\n",
    "\n",
    "mu = MCQSD(f4,10**5,1000,[1.75,4],[0,1])[0]\n",
    "print(top_lyap(mu, exp_f4, [1.75,4], [0,1]))\n",
    "\n",
    "n=400\n",
    "test = prob_mat(n,f4,[1.75,4],[0,1])\n",
    "mu_ulam = stationarydist(test)[0]\n",
    "print(top_lyap(mu_ulam, exp_f4, [1.75,4], [0,1]))"
   ]
  },
  {
   "cell_type": "markdown",
   "metadata": {},
   "source": [
    "## Method 2 approximating the Birkhoff sums\n"
   ]
  },
  {
   "cell_type": "code",
   "execution_count": 56,
   "metadata": {},
   "outputs": [],
   "source": [
    "def birkhoff(f,diff_f,n,Ω,domain):\n",
    "    \"\"\"\n",
    "    approximates Birkhoff sum for top Lyapunov exponent\n",
    "    parameters:\n",
    "    f: map from Ω x domain to domain\n",
    "    diff_f: partial derivative of f w.r.t. x\n",
    "    n: integer >> 1\n",
    "    Ω: interval in R from which noise values are drawn from uniformly\n",
    "    domain: interval in R\n",
    "    \"\"\"\n",
    "    omega = np.random.uniform(Ω[0],Ω[1],n+1)\n",
    "    birk_sum = 0\n",
    "    phi_i = np.random.uniform(domain[0],domain[1])\n",
    "    for i in range(n):\n",
    "        phi_i = f(omega[i],phi_i)\n",
    "        birk_sum += np.log(abs(diff_f(omega[i],phi_i)))\n",
    "    return birk_sum/n"
   ]
  },
  {
   "cell_type": "markdown",
   "metadata": {},
   "source": [
    "### Example:"
   ]
  },
  {
   "cell_type": "code",
   "execution_count": 57,
   "metadata": {},
   "outputs": [
    {
     "data": {
      "text/plain": [
       "-0.3681525270935276"
      ]
     },
     "execution_count": 57,
     "metadata": {},
     "output_type": "execute_result"
    }
   ],
   "source": [
    "def df4_dx(w,x):\n",
    "    return w-2*w*x\n",
    "    \n",
    "birkhoff(f4,df4_dx,1000000,[1.75,4],[0,1])"
   ]
  },
  {
   "cell_type": "markdown",
   "metadata": {},
   "source": [
    "# Conditional Lyapunov exponents\n"
   ]
  },
  {
   "cell_type": "code",
   "execution_count": 58,
   "metadata": {},
   "outputs": [],
   "source": [
    "# For maps with escape\n",
    "#  First compute quasi ergodic measure using transition matrix found via Ulam's method\n",
    "def QEM(mat):\n",
    "    mat = sparse.csr_matrix(mat)   \n",
    "    evals,evecs = eigs(np.transpose(mat))\n",
    "    evals2,evecs2 = eigs(mat)\n",
    "    index = np.argmax(evals)\n",
    "    index2 = np.argmax(evals2)\n",
    "    return evecs[:,index]*evecs2[:,index2]\n",
    "\n",
    "\n",
    "def cond_lyap(qem, E, Ω, M):\n",
    "    qem = np.abs(qem)/np.sum(qem)\n",
    "    res = len(qem)\n",
    "    x = np.linspace(M[0], M[1], res)\n",
    "\n",
    "    if Ω[0] == 0:\n",
    "        g = 1/(Ω[1]-Ω[0])*(E(Ω[1],x))\n",
    "    else:\n",
    "        g = 1/(Ω[1]-Ω[0])*(E(Ω[1],x)-E(Ω[0],x))\n",
    "\n",
    "    y = g*qem\n",
    "    return np.sum(y)  "
   ]
  },
  {
   "cell_type": "markdown",
   "metadata": {},
   "source": [
    "### Example:"
   ]
  },
  {
   "cell_type": "code",
   "execution_count": 61,
   "metadata": {},
   "outputs": [
    {
     "name": "stdout",
     "output_type": "stream",
     "text": [
      "100.0%\r"
     ]
    },
    {
     "data": {
      "text/plain": [
       "(0.6931471805599454+0j)"
      ]
     },
     "execution_count": 61,
     "metadata": {},
     "output_type": "execute_result"
    }
   ],
   "source": [
    "def exp_g(w,x):\n",
    "    return w*np.log(2)\n",
    "\n",
    "test= prob_mat(200,g,[-1,1],[-1,1])\n",
    "q=QEM(test)\n",
    "cond_lyap(q,exp_g,[-1,1],[-1,1])"
   ]
  },
  {
   "cell_type": "code",
   "execution_count": null,
   "metadata": {},
   "outputs": [],
   "source": []
  }
 ],
 "metadata": {
  "kernelspec": {
   "display_name": "Python 3",
   "language": "python",
   "name": "python3"
  },
  "language_info": {
   "codemirror_mode": {
    "name": "ipython",
    "version": 3
   },
   "file_extension": ".py",
   "mimetype": "text/x-python",
   "name": "python",
   "nbconvert_exporter": "python",
   "pygments_lexer": "ipython3",
   "version": "3.7.4"
  }
 },
 "nbformat": 4,
 "nbformat_minor": 2
}
